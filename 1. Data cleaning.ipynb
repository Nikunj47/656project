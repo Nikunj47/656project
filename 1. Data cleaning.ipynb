{
 "cells": [
  {
   "cell_type": "code",
   "execution_count": 1,
   "id": "eb8e844d",
   "metadata": {},
   "outputs": [],
   "source": [
    "# Import required libraries.\n",
    "\n",
    "import pandas as pd\n",
    "import numpy as np\n",
    "import matplotlib\n",
    "import seaborn as sb\n",
    "import matplotlib.pyplot as plt\n",
    "import matplotlib.cm as cmx\n",
    "import matplotlib.colors as colors\n",
    "import math\n",
    "import pylab\n",
    "import scipy.stats as stats\n",
    "%matplotlib inline"
   ]
  },
  {
   "cell_type": "code",
   "execution_count": 2,
   "id": "b59d758c",
   "metadata": {},
   "outputs": [],
   "source": [
    "# Select the relevent columns\n",
    "\n",
    "cols = [\n",
    "    'id',\n",
    "    'host_id',\n",
    "    'property_type',\n",
    "    'room_type',\n",
    "    'accommodates',\n",
    "    'bedrooms',\n",
    "    'beds',\n",
    "    'price',\n",
    "    'number_of_reviews',\n",
    "    'review_scores_rating',\n",
    "    'host_listings_count',\n",
    "    'availability_30',\n",
    "    'minimum_nights',\n",
    "    'bathrooms_text'\n",
    "]\n",
    "\n",
    "data = pd.read_csv('./data/mining_data/listings.csv', usecols=cols)\n"
   ]
  },
  {
   "cell_type": "code",
   "execution_count": 3,
   "id": "c1b7136b",
   "metadata": {},
   "outputs": [
    {
     "data": {
      "text/html": [
       "<div>\n",
       "<style scoped>\n",
       "    .dataframe tbody tr th:only-of-type {\n",
       "        vertical-align: middle;\n",
       "    }\n",
       "\n",
       "    .dataframe tbody tr th {\n",
       "        vertical-align: top;\n",
       "    }\n",
       "\n",
       "    .dataframe thead th {\n",
       "        text-align: right;\n",
       "    }\n",
       "</style>\n",
       "<table border=\"1\" class=\"dataframe\">\n",
       "  <thead>\n",
       "    <tr style=\"text-align: right;\">\n",
       "      <th></th>\n",
       "      <th>id</th>\n",
       "      <th>host_id</th>\n",
       "      <th>host_listings_count</th>\n",
       "      <th>property_type</th>\n",
       "      <th>room_type</th>\n",
       "      <th>accommodates</th>\n",
       "      <th>bathrooms_text</th>\n",
       "      <th>bedrooms</th>\n",
       "      <th>beds</th>\n",
       "      <th>price</th>\n",
       "      <th>minimum_nights</th>\n",
       "      <th>availability_30</th>\n",
       "      <th>number_of_reviews</th>\n",
       "      <th>review_scores_rating</th>\n",
       "    </tr>\n",
       "  </thead>\n",
       "  <tbody>\n",
       "    <tr>\n",
       "      <th>0</th>\n",
       "      <td>6606</td>\n",
       "      <td>14942</td>\n",
       "      <td>5</td>\n",
       "      <td>Entire guesthouse</td>\n",
       "      <td>Entire home/apt</td>\n",
       "      <td>1</td>\n",
       "      <td>1 bath</td>\n",
       "      <td>1.0</td>\n",
       "      <td>1.0</td>\n",
       "      <td>$99.00</td>\n",
       "      <td>30</td>\n",
       "      <td>22</td>\n",
       "      <td>159</td>\n",
       "      <td>4.61</td>\n",
       "    </tr>\n",
       "    <tr>\n",
       "      <th>1</th>\n",
       "      <td>9419</td>\n",
       "      <td>30559</td>\n",
       "      <td>9</td>\n",
       "      <td>Private room in rental unit</td>\n",
       "      <td>Private room</td>\n",
       "      <td>2</td>\n",
       "      <td>3 shared baths</td>\n",
       "      <td>1.0</td>\n",
       "      <td>2.0</td>\n",
       "      <td>$55.00</td>\n",
       "      <td>2</td>\n",
       "      <td>28</td>\n",
       "      <td>175</td>\n",
       "      <td>4.70</td>\n",
       "    </tr>\n",
       "    <tr>\n",
       "      <th>2</th>\n",
       "      <td>9531</td>\n",
       "      <td>31481</td>\n",
       "      <td>2</td>\n",
       "      <td>Entire home</td>\n",
       "      <td>Entire home/apt</td>\n",
       "      <td>4</td>\n",
       "      <td>1 bath</td>\n",
       "      <td>2.0</td>\n",
       "      <td>3.0</td>\n",
       "      <td>$175.00</td>\n",
       "      <td>3</td>\n",
       "      <td>0</td>\n",
       "      <td>71</td>\n",
       "      <td>4.96</td>\n",
       "    </tr>\n",
       "    <tr>\n",
       "      <th>3</th>\n",
       "      <td>9534</td>\n",
       "      <td>31481</td>\n",
       "      <td>2</td>\n",
       "      <td>Entire guest suite</td>\n",
       "      <td>Entire home/apt</td>\n",
       "      <td>3</td>\n",
       "      <td>1 bath</td>\n",
       "      <td>2.0</td>\n",
       "      <td>2.0</td>\n",
       "      <td>$135.00</td>\n",
       "      <td>2</td>\n",
       "      <td>0</td>\n",
       "      <td>73</td>\n",
       "      <td>4.99</td>\n",
       "    </tr>\n",
       "    <tr>\n",
       "      <th>4</th>\n",
       "      <td>9596</td>\n",
       "      <td>14942</td>\n",
       "      <td>5</td>\n",
       "      <td>Entire rental unit</td>\n",
       "      <td>Entire home/apt</td>\n",
       "      <td>4</td>\n",
       "      <td>1 bath</td>\n",
       "      <td>1.0</td>\n",
       "      <td>4.0</td>\n",
       "      <td>$130.00</td>\n",
       "      <td>30</td>\n",
       "      <td>22</td>\n",
       "      <td>97</td>\n",
       "      <td>4.56</td>\n",
       "    </tr>\n",
       "  </tbody>\n",
       "</table>\n",
       "</div>"
      ],
      "text/plain": [
       "     id  host_id  host_listings_count                property_type   \n",
       "0  6606    14942                    5            Entire guesthouse  \\\n",
       "1  9419    30559                    9  Private room in rental unit   \n",
       "2  9531    31481                    2                  Entire home   \n",
       "3  9534    31481                    2           Entire guest suite   \n",
       "4  9596    14942                    5           Entire rental unit   \n",
       "\n",
       "         room_type  accommodates  bathrooms_text  bedrooms  beds    price   \n",
       "0  Entire home/apt             1          1 bath       1.0   1.0   $99.00  \\\n",
       "1     Private room             2  3 shared baths       1.0   2.0   $55.00   \n",
       "2  Entire home/apt             4          1 bath       2.0   3.0  $175.00   \n",
       "3  Entire home/apt             3          1 bath       2.0   2.0  $135.00   \n",
       "4  Entire home/apt             4          1 bath       1.0   4.0  $130.00   \n",
       "\n",
       "   minimum_nights  availability_30  number_of_reviews  review_scores_rating  \n",
       "0              30               22                159                  4.61  \n",
       "1               2               28                175                  4.70  \n",
       "2               3                0                 71                  4.96  \n",
       "3               2                0                 73                  4.99  \n",
       "4              30               22                 97                  4.56  "
      ]
     },
     "execution_count": 3,
     "metadata": {},
     "output_type": "execute_result"
    }
   ],
   "source": [
    "data.head()"
   ]
  },
  {
   "cell_type": "code",
   "execution_count": 4,
   "id": "10ee449a",
   "metadata": {},
   "outputs": [
    {
     "data": {
      "text/plain": [
       "id                         0\n",
       "host_id                    0\n",
       "host_listings_count        0\n",
       "property_type              0\n",
       "room_type                  0\n",
       "accommodates               0\n",
       "bathrooms_text             1\n",
       "bedrooms                 702\n",
       "beds                      70\n",
       "price                      0\n",
       "minimum_nights             0\n",
       "availability_30            0\n",
       "number_of_reviews          0\n",
       "review_scores_rating    1087\n",
       "dtype: int64"
      ]
     },
     "execution_count": 4,
     "metadata": {},
     "output_type": "execute_result"
    }
   ],
   "source": [
    "# Check for number of null entries in each columns.\n",
    "\n",
    "data.isnull().sum()"
   ]
  },
  {
   "cell_type": "code",
   "execution_count": 5,
   "id": "38245893",
   "metadata": {},
   "outputs": [],
   "source": [
    "# Fixing the bathrooms_text column to make it usable in float type.\n",
    "\n",
    "data['bathrooms'] = data['bathrooms_text'].astype(str).str[0]\n",
    "data['bathrooms'].replace(\"H\",\"0\",inplace=True)\n",
    "data['bathrooms'].replace(\"n\",\"0\",inplace=True)\n",
    "data['bathrooms'].replace(\"S\",\"0\",inplace=True)\n",
    "data['bathrooms'].replace(\"P\",\"0\",inplace=True)\n",
    "data['bathrooms'] = data['bathrooms'].astype(str).astype(float)"
   ]
  },
  {
   "cell_type": "code",
   "execution_count": 6,
   "id": "b28e7011",
   "metadata": {},
   "outputs": [
    {
     "name": "stdout",
     "output_type": "stream",
     "text": [
      "<class 'pandas.core.frame.DataFrame'>\n",
      "RangeIndex: 6376 entries, 0 to 6375\n",
      "Data columns (total 15 columns):\n",
      " #   Column                Non-Null Count  Dtype  \n",
      "---  ------                --------------  -----  \n",
      " 0   id                    6376 non-null   int64  \n",
      " 1   host_id               6376 non-null   int64  \n",
      " 2   host_listings_count   6376 non-null   int64  \n",
      " 3   property_type         6376 non-null   object \n",
      " 4   room_type             6376 non-null   object \n",
      " 5   accommodates          6376 non-null   int64  \n",
      " 6   bathrooms_text        6375 non-null   object \n",
      " 7   bedrooms              5674 non-null   float64\n",
      " 8   beds                  6306 non-null   float64\n",
      " 9   price                 6376 non-null   object \n",
      " 10  minimum_nights        6376 non-null   int64  \n",
      " 11  availability_30       6376 non-null   int64  \n",
      " 12  number_of_reviews     6376 non-null   int64  \n",
      " 13  review_scores_rating  5289 non-null   float64\n",
      " 14  bathrooms             6376 non-null   float64\n",
      "dtypes: float64(4), int64(7), object(4)\n",
      "memory usage: 747.3+ KB\n"
     ]
    }
   ],
   "source": [
    "data.info()"
   ]
  },
  {
   "cell_type": "code",
   "execution_count": 7,
   "id": "a6c69b7b",
   "metadata": {},
   "outputs": [],
   "source": [
    "# Dropping the original column\n",
    "\n",
    "data.drop(['bathrooms_text'], axis=1, inplace=True)"
   ]
  },
  {
   "cell_type": "code",
   "execution_count": 8,
   "id": "4ae1b8d5",
   "metadata": {},
   "outputs": [
    {
     "name": "stdout",
     "output_type": "stream",
     "text": [
      "<class 'pandas.core.frame.DataFrame'>\n",
      "RangeIndex: 6376 entries, 0 to 6375\n",
      "Data columns (total 14 columns):\n",
      " #   Column                Non-Null Count  Dtype  \n",
      "---  ------                --------------  -----  \n",
      " 0   id                    6376 non-null   int64  \n",
      " 1   host_id               6376 non-null   int64  \n",
      " 2   host_listings_count   6376 non-null   int64  \n",
      " 3   property_type         6376 non-null   object \n",
      " 4   room_type             6376 non-null   object \n",
      " 5   accommodates          6376 non-null   int64  \n",
      " 6   bedrooms              5674 non-null   float64\n",
      " 7   beds                  6306 non-null   float64\n",
      " 8   price                 6376 non-null   object \n",
      " 9   minimum_nights        6376 non-null   int64  \n",
      " 10  availability_30       6376 non-null   int64  \n",
      " 11  number_of_reviews     6376 non-null   int64  \n",
      " 12  review_scores_rating  5289 non-null   float64\n",
      " 13  bathrooms             6376 non-null   float64\n",
      "dtypes: float64(4), int64(7), object(3)\n",
      "memory usage: 697.5+ KB\n"
     ]
    }
   ],
   "source": [
    "data.info()"
   ]
  },
  {
   "cell_type": "code",
   "execution_count": 9,
   "id": "604f4e09",
   "metadata": {
    "scrolled": true
   },
   "outputs": [
    {
     "data": {
      "text/plain": [
       "id                         0\n",
       "host_id                    0\n",
       "host_listings_count        0\n",
       "property_type              0\n",
       "room_type                  0\n",
       "accommodates               0\n",
       "bedrooms                 702\n",
       "beds                      70\n",
       "price                      0\n",
       "minimum_nights             0\n",
       "availability_30            0\n",
       "number_of_reviews          0\n",
       "review_scores_rating    1087\n",
       "bathrooms                  0\n",
       "dtype: int64"
      ]
     },
     "execution_count": 9,
     "metadata": {},
     "output_type": "execute_result"
    }
   ],
   "source": [
    "# Checking for null values in columns.\n",
    "\n",
    "\n",
    "data.isnull().sum()"
   ]
  },
  {
   "cell_type": "code",
   "execution_count": 10,
   "id": "249b923a",
   "metadata": {},
   "outputs": [],
   "source": [
    "# Drop entries which have null values in bedrooms type\n",
    "\n",
    "data = data.dropna(how='any', subset=['bedrooms','beds'])"
   ]
  },
  {
   "cell_type": "code",
   "execution_count": 11,
   "id": "b25f2556",
   "metadata": {},
   "outputs": [
    {
     "data": {
      "text/plain": [
       "id                        0\n",
       "host_id                   0\n",
       "host_listings_count       0\n",
       "property_type             0\n",
       "room_type                 0\n",
       "accommodates              0\n",
       "bedrooms                  0\n",
       "beds                      0\n",
       "price                     0\n",
       "minimum_nights            0\n",
       "availability_30           0\n",
       "number_of_reviews         0\n",
       "review_scores_rating    954\n",
       "bathrooms                 0\n",
       "dtype: int64"
      ]
     },
     "execution_count": 11,
     "metadata": {},
     "output_type": "execute_result"
    }
   ],
   "source": [
    "data.isnull().sum()"
   ]
  },
  {
   "cell_type": "code",
   "execution_count": 12,
   "id": "1208698c",
   "metadata": {},
   "outputs": [],
   "source": [
    "# Removing string characters to convert price to float.\n",
    "\n",
    "data['price'] = data['price'].str.replace('$', '')\n",
    "data['price'] = data['price'].str.replace(',', '')\n",
    "data['price'] = data['price'].astype(str).astype(float)"
   ]
  },
  {
   "cell_type": "code",
   "execution_count": 13,
   "id": "916cd9a4",
   "metadata": {},
   "outputs": [
    {
     "name": "stdout",
     "output_type": "stream",
     "text": [
      "<class 'pandas.core.frame.DataFrame'>\n",
      "Index: 5652 entries, 0 to 6375\n",
      "Data columns (total 14 columns):\n",
      " #   Column                Non-Null Count  Dtype  \n",
      "---  ------                --------------  -----  \n",
      " 0   id                    5652 non-null   int64  \n",
      " 1   host_id               5652 non-null   int64  \n",
      " 2   host_listings_count   5652 non-null   int64  \n",
      " 3   property_type         5652 non-null   object \n",
      " 4   room_type             5652 non-null   object \n",
      " 5   accommodates          5652 non-null   int64  \n",
      " 6   bedrooms              5652 non-null   float64\n",
      " 7   beds                  5652 non-null   float64\n",
      " 8   price                 5652 non-null   float64\n",
      " 9   minimum_nights        5652 non-null   int64  \n",
      " 10  availability_30       5652 non-null   int64  \n",
      " 11  number_of_reviews     5652 non-null   int64  \n",
      " 12  review_scores_rating  4698 non-null   float64\n",
      " 13  bathrooms             5652 non-null   float64\n",
      "dtypes: float64(5), int64(7), object(2)\n",
      "memory usage: 662.3+ KB\n"
     ]
    }
   ],
   "source": [
    "data.info()"
   ]
  },
  {
   "cell_type": "code",
   "execution_count": 14,
   "id": "1c9f1fee",
   "metadata": {},
   "outputs": [
    {
     "name": "stdout",
     "output_type": "stream",
     "text": [
      "Number of missing review scores ratings: 954\n"
     ]
    }
   ],
   "source": [
    "print ('Number of missing review scores ratings:', len(data['review_scores_rating'][data['review_scores_rating'].isnull()]))"
   ]
  },
  {
   "cell_type": "code",
   "execution_count": 15,
   "id": "1a5c4539",
   "metadata": {},
   "outputs": [
    {
     "name": "stdout",
     "output_type": "stream",
     "text": [
      "Number of Unique Accomodation:  [ 1  2  3  4  5  6  7  8  9 10 11 12 13 14 15 16]\n",
      "Accommodation 1: 221\n",
      "Accommodation 2: 1760\n",
      "Accommodation 3: 404\n",
      "Accommodation 4: 1482\n",
      "Accommodation 5: 331\n",
      "Accommodation 6: 732\n",
      "Accommodation 7: 107\n",
      "Accommodation 8: 292\n",
      "Accommodation 9: 43\n",
      "Accommodation 10: 114\n",
      "Accommodation 11: 28\n",
      "Accommodation 12: 57\n",
      "Accommodation 13: 7\n",
      "Accommodation 14: 20\n",
      "Accommodation 15: 8\n",
      "Accommodation 16: 46\n"
     ]
    }
   ],
   "source": [
    "# Distribution of accomodates\n",
    "\n",
    "print ('Number of Unique Accomodation: ', np.unique(data['accommodates']))\n",
    "for i in range(1, 17):\n",
    "    print ('Accommodation {}:'.format(i), len(data[data['accommodates'] == i]))"
   ]
  },
  {
   "cell_type": "code",
   "execution_count": 16,
   "id": "344cfd72",
   "metadata": {},
   "outputs": [
    {
     "data": {
      "image/png": "[encoded data removed]",
      "text/plain": [
       "<Figure size 432x288 with 1 Axes>"
      ]
     },
     "metadata": {
      "needs_background": "light"
     },
     "output_type": "display_data"
    }
   ],
   "source": [
    "# Visualize distribution of accomodates\n",
    "plt.hist(data['accommodates'], bins=50)\n",
    "plt.title(\"Histogram of Accommodations\")\n",
    "plt.xlabel(\"Number of Accommodations\")\n",
    "plt.ylabel(\"Frequency\")\n",
    "plt.show()"
   ]
  },
  {
   "cell_type": "code",
   "execution_count": 17,
   "id": "2790ecb4",
   "metadata": {},
   "outputs": [
    {
     "name": "stdout",
     "output_type": "stream",
     "text": [
      "Number of Unique Beds:  [ 1.  2.  3.  4.  5.  6.  7.  8.  9. 10. 11. 12. 14. 15. 16.]\n",
      "Beds 1: 2171\n",
      "Beds 2: 1688\n",
      "Beds 3: 957\n",
      "Beds 4: 411\n",
      "Beds 5: 201\n",
      "Beds 6: 107\n",
      "Beds 7: 53\n",
      "Beds 8: 31\n",
      "Beds 9: 15\n",
      "Beds 10: 7\n",
      "Beds 11: 1\n",
      "Beds 12: 4\n",
      "Beds 13: 0\n",
      "Beds 14: 2\n",
      "Beds 15: 2\n",
      "Beds 16: 2\n"
     ]
    }
   ],
   "source": [
    "# Distribution of beds\n",
    "\n",
    "print ('Number of Unique Beds: ', np.unique(data['beds']))\n",
    "for i in range(1, 17):\n",
    "    print ('Beds {}:'.format(i), len(data[data['beds'] == i]))"
   ]
  },
  {
   "cell_type": "code",
   "execution_count": 18,
   "id": "b5b2feb0",
   "metadata": {},
   "outputs": [
    {
     "data": {
      "image/png": "[encoded data removed]",
      "text/plain": [
       "<Figure size 432x288 with 1 Axes>"
      ]
     },
     "metadata": {
      "needs_background": "light"
     },
     "output_type": "display_data"
    }
   ],
   "source": [
    "# Visualize distribution of beds\n",
    "plt.hist(data['beds'], bins=50)\n",
    "plt.title(\"Histogram of Beds\")\n",
    "plt.xlabel(\"Bed Count\")\n",
    "plt.ylabel(\"Frequency\")\n",
    "plt.show()"
   ]
  },
  {
   "cell_type": "code",
   "execution_count": 19,
   "id": "7936c0f9",
   "metadata": {},
   "outputs": [
    {
     "data": {
      "image/png": "[encoded data removed]",
      "text/plain": [
       "<Figure size 432x288 with 1 Axes>"
      ]
     },
     "metadata": {
      "needs_background": "light"
     },
     "output_type": "display_data"
    }
   ],
   "source": [
    "# Visualize distribution of review scores ratings\n",
    "plt.hist(data['review_scores_rating'][~data['review_scores_rating'].isnull()])\n",
    "plt.title(\"Histogram of Review Scores Ratings\")\n",
    "plt.xlabel(\"Review Score\")\n",
    "plt.ylabel(\"Frequency\")\n",
    "plt.show()"
   ]
  },
  {
   "cell_type": "code",
   "execution_count": 20,
   "id": "53709969",
   "metadata": {},
   "outputs": [],
   "source": [
    "# Making values of unavailable reviews as 0.\n",
    "\n",
    "idx_vals = data['review_scores_rating'][data['number_of_reviews'] == 0].index.values.tolist()\n",
    "data.loc[idx_vals, ('review_scores_rating')] = data['review_scores_rating'][data['number_of_reviews'] == 0].replace('NaN', 'No Reviews')\n",
    "\n",
    "# remove inconsistent NaN values\n",
    "data = data[~data['review_scores_rating'].isnull()]"
   ]
  },
  {
   "cell_type": "code",
   "execution_count": 21,
   "id": "f18bd0ce",
   "metadata": {},
   "outputs": [
    {
     "name": "stdout",
     "output_type": "stream",
     "text": [
      "Unique Values in the Column: ['0-1' '1-2' '2-3' '3-4' '4-5']\n"
     ]
    }
   ],
   "source": [
    "# Creating buckets for the reviews\n",
    "\n",
    "def convert_scores_buckets(val):\n",
    "    if val == 'No Reviews':\n",
    "        return 'No Reviews'\n",
    "    \n",
    "    elif val >= 4:\n",
    "        return '4-5'\n",
    "\n",
    "    elif val >= 3.0 and val < 4:\n",
    "        return '3-4'\n",
    "\n",
    "    elif val >= 2.0 and val < 3:\n",
    "        return '2-3'\n",
    "    \n",
    "    elif val >= 1.0 and val < 2:\n",
    "        return '1-2'\n",
    "    \n",
    "    elif val < 1.0:\n",
    "        return '0-1'\n",
    "    \n",
    "data['review_scores_rating'] = data['review_scores_rating'].apply(convert_scores_buckets)\n",
    "print ('Unique Values in the Column:', np.unique(data['review_scores_rating']))"
   ]
  },
  {
   "cell_type": "code",
   "execution_count": 22,
   "id": "09d3d2e3",
   "metadata": {},
   "outputs": [
    {
     "data": {
      "text/plain": [
       "id                      0\n",
       "host_id                 0\n",
       "host_listings_count     0\n",
       "property_type           0\n",
       "room_type               0\n",
       "accommodates            0\n",
       "bedrooms                0\n",
       "beds                    0\n",
       "price                   0\n",
       "minimum_nights          0\n",
       "availability_30         0\n",
       "number_of_reviews       0\n",
       "review_scores_rating    0\n",
       "bathrooms               0\n",
       "dtype: int64"
      ]
     },
     "execution_count": 22,
     "metadata": {},
     "output_type": "execute_result"
    }
   ],
   "source": [
    "# No null data entry remains\n",
    "\n",
    "data.isnull().sum()"
   ]
  },
  {
   "cell_type": "code",
   "execution_count": 23,
   "id": "ab6c7c8a",
   "metadata": {},
   "outputs": [
    {
     "name": "stdout",
     "output_type": "stream",
     "text": [
      "<class 'pandas.core.frame.DataFrame'>\n",
      "Index: 4698 entries, 0 to 6375\n",
      "Data columns (total 14 columns):\n",
      " #   Column                Non-Null Count  Dtype  \n",
      "---  ------                --------------  -----  \n",
      " 0   id                    4698 non-null   int64  \n",
      " 1   host_id               4698 non-null   int64  \n",
      " 2   host_listings_count   4698 non-null   int64  \n",
      " 3   property_type         4698 non-null   object \n",
      " 4   room_type             4698 non-null   object \n",
      " 5   accommodates          4698 non-null   int64  \n",
      " 6   bedrooms              4698 non-null   float64\n",
      " 7   beds                  4698 non-null   float64\n",
      " 8   price                 4698 non-null   float64\n",
      " 9   minimum_nights        4698 non-null   int64  \n",
      " 10  availability_30       4698 non-null   int64  \n",
      " 11  number_of_reviews     4698 non-null   int64  \n",
      " 12  review_scores_rating  4698 non-null   object \n",
      " 13  bathrooms             4698 non-null   float64\n",
      "dtypes: float64(4), int64(7), object(3)\n",
      "memory usage: 550.5+ KB\n"
     ]
    }
   ],
   "source": [
    "data.info()"
   ]
  },
  {
   "cell_type": "code",
   "execution_count": 24,
   "id": "67c790dd",
   "metadata": {},
   "outputs": [
    {
     "name": "stdout",
     "output_type": "stream",
     "text": [
      "Number of Columns: 69\n"
     ]
    }
   ],
   "source": [
    "# One hot encoding is done for the categorical data columns.\n",
    "\n",
    "property_dummies = pd.get_dummies(data['property_type'])\n",
    "room_dummies = pd.get_dummies(data['room_type'])\n",
    "ratings_scores_dummies = pd.get_dummies(data['review_scores_rating'])\n",
    "\n",
    "# Replacing old columns\n",
    "\n",
    "df = pd.concat((data.drop([ \\\n",
    "    'property_type', 'room_type', 'review_scores_rating'], axis=1), \\\n",
    "    property_dummies.astype(int), \\\n",
    "    room_dummies.astype(int), ratings_scores_dummies.astype(int)), \\\n",
    "    axis=1)\n",
    "\n",
    "print ('Number of Columns:', len(df.columns))\n",
    "\n",
    "# Price is placed as the last column\n",
    "\n",
    "cols = list(df.columns.values)\n",
    "idx = cols.index('price')\n",
    "rearrange_cols = cols[:idx] + cols[idx+1:] + [cols[idx]]\n",
    "df = df[rearrange_cols]"
   ]
  },
  {
   "cell_type": "code",
   "execution_count": 25,
   "id": "db15609c",
   "metadata": {},
   "outputs": [
    {
     "data": {
      "text/html": [
       "<div>\n",
       "<style scoped>\n",
       "    .dataframe tbody tr th:only-of-type {\n",
       "        vertical-align: middle;\n",
       "    }\n",
       "\n",
       "    .dataframe tbody tr th {\n",
       "        vertical-align: top;\n",
       "    }\n",
       "\n",
       "    .dataframe thead th {\n",
       "        text-align: right;\n",
       "    }\n",
       "</style>\n",
       "<table border=\"1\" class=\"dataframe\">\n",
       "  <thead>\n",
       "    <tr style=\"text-align: right;\">\n",
       "      <th></th>\n",
       "      <th>id</th>\n",
       "      <th>host_id</th>\n",
       "      <th>host_listings_count</th>\n",
       "      <th>accommodates</th>\n",
       "      <th>bedrooms</th>\n",
       "      <th>beds</th>\n",
       "      <th>minimum_nights</th>\n",
       "      <th>availability_30</th>\n",
       "      <th>number_of_reviews</th>\n",
       "      <th>bathrooms</th>\n",
       "      <th>...</th>\n",
       "      <th>Private room</th>\n",
       "      <th>Private room</th>\n",
       "      <th>Shared room</th>\n",
       "      <th>Shared room</th>\n",
       "      <th>0-1</th>\n",
       "      <th>1-2</th>\n",
       "      <th>2-3</th>\n",
       "      <th>3-4</th>\n",
       "      <th>4-5</th>\n",
       "      <th>price</th>\n",
       "    </tr>\n",
       "  </thead>\n",
       "  <tbody>\n",
       "    <tr>\n",
       "      <th>0</th>\n",
       "      <td>6606</td>\n",
       "      <td>14942</td>\n",
       "      <td>-0.182589</td>\n",
       "      <td>-1.275696</td>\n",
       "      <td>-0.746723</td>\n",
       "      <td>-0.850856</td>\n",
       "      <td>1.435549</td>\n",
       "      <td>0.873473</td>\n",
       "      <td>0.867007</td>\n",
       "      <td>-0.570567</td>\n",
       "      <td>...</td>\n",
       "      <td>0</td>\n",
       "      <td>0</td>\n",
       "      <td>0</td>\n",
       "      <td>0</td>\n",
       "      <td>0</td>\n",
       "      <td>0</td>\n",
       "      <td>0</td>\n",
       "      <td>0</td>\n",
       "      <td>1</td>\n",
       "      <td>99.0</td>\n",
       "    </tr>\n",
       "    <tr>\n",
       "      <th>1</th>\n",
       "      <td>9419</td>\n",
       "      <td>30559</td>\n",
       "      <td>-0.175940</td>\n",
       "      <td>-0.890924</td>\n",
       "      <td>-0.746723</td>\n",
       "      <td>-0.195665</td>\n",
       "      <td>-0.506848</td>\n",
       "      <td>1.445454</td>\n",
       "      <td>1.024290</td>\n",
       "      <td>2.540892</td>\n",
       "      <td>...</td>\n",
       "      <td>0</td>\n",
       "      <td>1</td>\n",
       "      <td>0</td>\n",
       "      <td>0</td>\n",
       "      <td>0</td>\n",
       "      <td>0</td>\n",
       "      <td>0</td>\n",
       "      <td>0</td>\n",
       "      <td>1</td>\n",
       "      <td>55.0</td>\n",
       "    </tr>\n",
       "    <tr>\n",
       "      <th>2</th>\n",
       "      <td>9531</td>\n",
       "      <td>31481</td>\n",
       "      <td>-0.187575</td>\n",
       "      <td>-0.121378</td>\n",
       "      <td>0.197077</td>\n",
       "      <td>0.459527</td>\n",
       "      <td>-0.437476</td>\n",
       "      <td>-1.223788</td>\n",
       "      <td>0.001952</td>\n",
       "      <td>-0.570567</td>\n",
       "      <td>...</td>\n",
       "      <td>0</td>\n",
       "      <td>0</td>\n",
       "      <td>0</td>\n",
       "      <td>0</td>\n",
       "      <td>0</td>\n",
       "      <td>0</td>\n",
       "      <td>0</td>\n",
       "      <td>0</td>\n",
       "      <td>1</td>\n",
       "      <td>175.0</td>\n",
       "    </tr>\n",
       "    <tr>\n",
       "      <th>3</th>\n",
       "      <td>9534</td>\n",
       "      <td>31481</td>\n",
       "      <td>-0.187575</td>\n",
       "      <td>-0.506151</td>\n",
       "      <td>0.197077</td>\n",
       "      <td>-0.195665</td>\n",
       "      <td>-0.506848</td>\n",
       "      <td>-1.223788</td>\n",
       "      <td>0.021613</td>\n",
       "      <td>-0.570567</td>\n",
       "      <td>...</td>\n",
       "      <td>0</td>\n",
       "      <td>0</td>\n",
       "      <td>0</td>\n",
       "      <td>0</td>\n",
       "      <td>0</td>\n",
       "      <td>0</td>\n",
       "      <td>0</td>\n",
       "      <td>0</td>\n",
       "      <td>1</td>\n",
       "      <td>135.0</td>\n",
       "    </tr>\n",
       "    <tr>\n",
       "      <th>4</th>\n",
       "      <td>9596</td>\n",
       "      <td>14942</td>\n",
       "      <td>-0.182589</td>\n",
       "      <td>-0.121378</td>\n",
       "      <td>-0.746723</td>\n",
       "      <td>1.114718</td>\n",
       "      <td>1.435549</td>\n",
       "      <td>0.873473</td>\n",
       "      <td>0.257537</td>\n",
       "      <td>-0.570567</td>\n",
       "      <td>...</td>\n",
       "      <td>0</td>\n",
       "      <td>0</td>\n",
       "      <td>0</td>\n",
       "      <td>0</td>\n",
       "      <td>0</td>\n",
       "      <td>0</td>\n",
       "      <td>0</td>\n",
       "      <td>0</td>\n",
       "      <td>1</td>\n",
       "      <td>130.0</td>\n",
       "    </tr>\n",
       "  </tbody>\n",
       "</table>\n",
       "<p>5 rows × 73 columns</p>\n",
       "</div>"
      ],
      "text/plain": [
       "     id  host_id  host_listings_count  accommodates  bedrooms      beds   \n",
       "0  6606    14942            -0.182589     -1.275696 -0.746723 -0.850856  \\\n",
       "1  9419    30559            -0.175940     -0.890924 -0.746723 -0.195665   \n",
       "2  9531    31481            -0.187575     -0.121378  0.197077  0.459527   \n",
       "3  9534    31481            -0.187575     -0.506151  0.197077 -0.195665   \n",
       "4  9596    14942            -0.182589     -0.121378 -0.746723  1.114718   \n",
       "\n",
       "   minimum_nights  availability_30  number_of_reviews  bathrooms  ...   \n",
       "0        1.435549         0.873473           0.867007  -0.570567  ...  \\\n",
       "1       -0.506848         1.445454           1.024290   2.540892  ...   \n",
       "2       -0.437476        -1.223788           0.001952  -0.570567  ...   \n",
       "3       -0.506848        -1.223788           0.021613  -0.570567  ...   \n",
       "4        1.435549         0.873473           0.257537  -0.570567  ...   \n",
       "\n",
       "   Private room  Private room  Shared room  Shared room  0-1  1-2  2-3  3-4   \n",
       "0             0             0            0            0    0    0    0    0  \\\n",
       "1             0             1            0            0    0    0    0    0   \n",
       "2             0             0            0            0    0    0    0    0   \n",
       "3             0             0            0            0    0    0    0    0   \n",
       "4             0             0            0            0    0    0    0    0   \n",
       "\n",
       "   4-5  price  \n",
       "0    1   99.0  \n",
       "1    1   55.0  \n",
       "2    1  175.0  \n",
       "3    1  135.0  \n",
       "4    1  130.0  \n",
       "\n",
       "[5 rows x 73 columns]"
      ]
     },
     "execution_count": 25,
     "metadata": {},
     "output_type": "execute_result"
    }
   ],
   "source": [
    "# Normalizing the numerical data\n",
    "\n",
    "def standardize_col(col):\n",
    "    mean = np.mean(col)\n",
    "    std = np.std(col)\n",
    "    return col.apply(lambda x: (x - mean) / std)\n",
    "\n",
    "non_cat_vars = ['accommodates', 'bedrooms', 'beds', 'number_of_reviews', 'host_listings_count', 'availability_30', 'minimum_nights', 'bathrooms']\n",
    "for col in non_cat_vars:\n",
    "    df[col] = df[col].astype(float)\n",
    "    df[col] = standardize_col(df[col])\n",
    "    \n",
    "df.head()"
   ]
  },
  {
   "cell_type": "code",
   "execution_count": 26,
   "id": "cfa1c45c",
   "metadata": {},
   "outputs": [
    {
     "data": {
      "image/png": "[encoded data removed]",
      "text/plain": [
       "<Figure size 432x288 with 1 Axes>"
      ]
     },
     "metadata": {
      "needs_background": "light"
     },
     "output_type": "display_data"
    }
   ],
   "source": [
    "# Price distribution\n",
    "\n",
    "plt.hist(df['price'], bins=50)\n",
    "plt.title(\"Histogram of Pricing\")\n",
    "plt.xlabel(\"Pricing (USD) Per Day\")\n",
    "plt.ylabel(\"Frequency\")\n",
    "plt.show()"
   ]
  },
  {
   "cell_type": "code",
   "execution_count": 27,
   "id": "035c7dfc",
   "metadata": {},
   "outputs": [],
   "source": [
    "# Log transform is applied to the price to scale it\n",
    "\n",
    "df['price_log'] = df['price'].apply(lambda x: math.log(x))"
   ]
  },
  {
   "cell_type": "code",
   "execution_count": 28,
   "id": "728012ad",
   "metadata": {},
   "outputs": [
    {
     "data": {
      "image/png": "[encoded data removed]",
      "text/plain": [
       "<Figure size 432x288 with 1 Axes>"
      ]
     },
     "metadata": {
      "needs_background": "light"
     },
     "output_type": "display_data"
    }
   ],
   "source": [
    "# Price distribution after log transform\n",
    "\n",
    "plt.hist(df['price_log'], bins=30)\n",
    "plt.title(\"Histogram of Pricing Log-Transformed\")\n",
    "plt.xlabel(\"Pricing (USD) Per Day\")\n",
    "plt.ylabel(\"Frequency\")\n",
    "plt.show()"
   ]
  },
  {
   "cell_type": "code",
   "execution_count": 29,
   "id": "8dd29ec7",
   "metadata": {},
   "outputs": [
    {
     "data": {
      "image/png": "[encoded data removed]",
      "text/plain": [
       "<Figure size 432x288 with 1 Axes>"
      ]
     },
     "metadata": {
      "needs_background": "light"
     },
     "output_type": "display_data"
    }
   ],
   "source": [
    "# QQ plot for prices\n",
    "\n",
    "stats.probplot(df['price'], dist=\"norm\", plot=pylab)\n",
    "pylab.show()"
   ]
  },
  {
   "cell_type": "code",
   "execution_count": 30,
   "id": "d3239c57",
   "metadata": {},
   "outputs": [
    {
     "data": {
      "image/png": "[encoded data removed]",
      "text/plain": [
       "<Figure size 432x288 with 1 Axes>"
      ]
     },
     "metadata": {
      "needs_background": "light"
     },
     "output_type": "display_data"
    }
   ],
   "source": [
    "# QQ plot for log transformed prices\n",
    "\n",
    "stats.probplot(df['price_log'], dist=\"norm\", plot=pylab)\n",
    "pylab.show()"
   ]
  },
  {
   "cell_type": "code",
   "execution_count": 31,
   "id": "ac354199",
   "metadata": {},
   "outputs": [],
   "source": [
    "# Store the data in csv\n",
    "df.to_csv('./data/mining_data/listings_clean.csv', index=False)"
   ]
  }
 ],
 "metadata": {
  "kernelspec": {
   "display_name": "Python 3 (ipykernel)",
   "language": "python",
   "name": "python3"
  },
  "language_info": {
   "codemirror_mode": {
    "name": "ipython",
    "version": 3
   },
   "file_extension": ".py",
   "mimetype": "text/x-python",
   "name": "python",
   "nbconvert_exporter": "python",
   "pygments_lexer": "ipython3",
   "version": "3.8.6"
  }
 },
 "nbformat": 4,
 "nbformat_minor": 5
}
